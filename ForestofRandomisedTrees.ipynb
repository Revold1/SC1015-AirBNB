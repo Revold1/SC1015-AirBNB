{
 "cells": [
  {
   "attachments": {},
   "cell_type": "markdown",
   "metadata": {},
   "source": [
    "# Forests of randomized trees\n",
    "Some References:\n",
    "- https://www.geeksforgeeks.org/random-forest-regression-in-python/"
   ]
  },
  {
   "cell_type": "code",
   "execution_count": 2,
   "metadata": {},
   "outputs": [],
   "source": [
    "# Basic Libraries\n",
    "import numpy as np\n",
    "import pandas as pd\n",
    "import seaborn as sb\n",
    "import matplotlib.pyplot as plt # we only need pyplot\n",
    "sb.set() # set the default Seaborn style for graphics"
   ]
  },
  {
   "attachments": {},
   "cell_type": "markdown",
   "metadata": {},
   "source": [
    "### Data Preprocessing\n",
    "- Removing outliers of price\n",
    "- Apply categorial label"
   ]
  },
  {
   "cell_type": "code",
   "execution_count": 3,
   "metadata": {},
   "outputs": [],
   "source": [
    "london = pd.read_csv('london_weekdays.csv')\n",
    "london = london.drop(columns=['Unnamed: 0'])"
   ]
  },
  {
   "cell_type": "code",
   "execution_count": 4,
   "metadata": {},
   "outputs": [
    {
     "data": {
      "text/plain": [
       "(4367, 19)"
      ]
     },
     "execution_count": 4,
     "metadata": {},
     "output_type": "execute_result"
    }
   ],
   "source": [
    "#To remove outliers from realSum \n",
    "# Calculate the quartiles\n",
    "Q1 = london['realSum'].quantile(0.25)\n",
    "Q3 = london['realSum'].quantile(0.75)\n",
    "\n",
    "# Remove outliers of realSum\n",
    "london = london.loc[((london['realSum'] > (Q1 - 1.5 * (Q3 - Q1))) & (london['realSum'] < (Q3 + 1.5 * (Q3 - Q1))))]\n",
    "london.shape"
   ]
  },
  {
   "cell_type": "code",
   "execution_count": 5,
   "metadata": {},
   "outputs": [
    {
     "data": {
      "text/html": [
       "<div>\n",
       "<style scoped>\n",
       "    .dataframe tbody tr th:only-of-type {\n",
       "        vertical-align: middle;\n",
       "    }\n",
       "\n",
       "    .dataframe tbody tr th {\n",
       "        vertical-align: top;\n",
       "    }\n",
       "\n",
       "    .dataframe thead th {\n",
       "        text-align: right;\n",
       "    }\n",
       "</style>\n",
       "<table border=\"1\" class=\"dataframe\">\n",
       "  <thead>\n",
       "    <tr style=\"text-align: right;\">\n",
       "      <th></th>\n",
       "      <th>realSum</th>\n",
       "      <th>room_type</th>\n",
       "      <th>room_shared</th>\n",
       "      <th>room_private</th>\n",
       "      <th>person_capacity</th>\n",
       "      <th>host_is_superhost</th>\n",
       "      <th>multi</th>\n",
       "      <th>biz</th>\n",
       "      <th>cleanliness_rating</th>\n",
       "      <th>guest_satisfaction_overall</th>\n",
       "      <th>bedrooms</th>\n",
       "      <th>dist</th>\n",
       "      <th>metro_dist</th>\n",
       "      <th>attr_index</th>\n",
       "      <th>attr_index_norm</th>\n",
       "      <th>rest_index</th>\n",
       "      <th>rest_index_norm</th>\n",
       "      <th>lng</th>\n",
       "      <th>lat</th>\n",
       "    </tr>\n",
       "  </thead>\n",
       "  <tbody>\n",
       "    <tr>\n",
       "      <th>0</th>\n",
       "      <td>570.098074</td>\n",
       "      <td>2</td>\n",
       "      <td>False</td>\n",
       "      <td>False</td>\n",
       "      <td>2.0</td>\n",
       "      <td>False</td>\n",
       "      <td>0</td>\n",
       "      <td>0</td>\n",
       "      <td>10.0</td>\n",
       "      <td>98.0</td>\n",
       "      <td>1</td>\n",
       "      <td>5.301018</td>\n",
       "      <td>1.588990</td>\n",
       "      <td>209.632578</td>\n",
       "      <td>14.571793</td>\n",
       "      <td>467.597522</td>\n",
       "      <td>8.372724</td>\n",
       "      <td>-0.16032</td>\n",
       "      <td>51.46531</td>\n",
       "    </tr>\n",
       "    <tr>\n",
       "      <th>1</th>\n",
       "      <td>297.984430</td>\n",
       "      <td>1</td>\n",
       "      <td>False</td>\n",
       "      <td>True</td>\n",
       "      <td>2.0</td>\n",
       "      <td>True</td>\n",
       "      <td>1</td>\n",
       "      <td>0</td>\n",
       "      <td>10.0</td>\n",
       "      <td>99.0</td>\n",
       "      <td>1</td>\n",
       "      <td>2.198946</td>\n",
       "      <td>0.379262</td>\n",
       "      <td>553.891744</td>\n",
       "      <td>38.501630</td>\n",
       "      <td>961.472137</td>\n",
       "      <td>17.215961</td>\n",
       "      <td>-0.09683</td>\n",
       "      <td>51.50343</td>\n",
       "    </tr>\n",
       "    <tr>\n",
       "      <th>2</th>\n",
       "      <td>336.790611</td>\n",
       "      <td>1</td>\n",
       "      <td>False</td>\n",
       "      <td>True</td>\n",
       "      <td>2.0</td>\n",
       "      <td>False</td>\n",
       "      <td>1</td>\n",
       "      <td>0</td>\n",
       "      <td>10.0</td>\n",
       "      <td>96.0</td>\n",
       "      <td>1</td>\n",
       "      <td>2.322958</td>\n",
       "      <td>0.453178</td>\n",
       "      <td>428.287849</td>\n",
       "      <td>29.770764</td>\n",
       "      <td>959.042839</td>\n",
       "      <td>17.172462</td>\n",
       "      <td>-0.10554</td>\n",
       "      <td>51.52407</td>\n",
       "    </tr>\n",
       "    <tr>\n",
       "      <th>3</th>\n",
       "      <td>226.722171</td>\n",
       "      <td>1</td>\n",
       "      <td>False</td>\n",
       "      <td>True</td>\n",
       "      <td>2.0</td>\n",
       "      <td>True</td>\n",
       "      <td>1</td>\n",
       "      <td>0</td>\n",
       "      <td>10.0</td>\n",
       "      <td>99.0</td>\n",
       "      <td>1</td>\n",
       "      <td>5.707825</td>\n",
       "      <td>1.723977</td>\n",
       "      <td>195.694744</td>\n",
       "      <td>13.602959</td>\n",
       "      <td>452.232472</td>\n",
       "      <td>8.097600</td>\n",
       "      <td>-0.16575</td>\n",
       "      <td>51.46292</td>\n",
       "    </tr>\n",
       "    <tr>\n",
       "      <th>4</th>\n",
       "      <td>256.355982</td>\n",
       "      <td>1</td>\n",
       "      <td>False</td>\n",
       "      <td>True</td>\n",
       "      <td>3.0</td>\n",
       "      <td>False</td>\n",
       "      <td>0</td>\n",
       "      <td>0</td>\n",
       "      <td>9.0</td>\n",
       "      <td>98.0</td>\n",
       "      <td>1</td>\n",
       "      <td>3.257945</td>\n",
       "      <td>0.825417</td>\n",
       "      <td>329.477068</td>\n",
       "      <td>22.902317</td>\n",
       "      <td>735.327280</td>\n",
       "      <td>13.166649</td>\n",
       "      <td>-0.12055</td>\n",
       "      <td>51.53728</td>\n",
       "    </tr>\n",
       "  </tbody>\n",
       "</table>\n",
       "</div>"
      ],
      "text/plain": [
       "      realSum  room_type  room_shared  room_private  person_capacity  \\\n",
       "0  570.098074          2        False         False              2.0   \n",
       "1  297.984430          1        False          True              2.0   \n",
       "2  336.790611          1        False          True              2.0   \n",
       "3  226.722171          1        False          True              2.0   \n",
       "4  256.355982          1        False          True              3.0   \n",
       "\n",
       "   host_is_superhost  multi  biz  cleanliness_rating  \\\n",
       "0              False      0    0                10.0   \n",
       "1               True      1    0                10.0   \n",
       "2              False      1    0                10.0   \n",
       "3               True      1    0                10.0   \n",
       "4              False      0    0                 9.0   \n",
       "\n",
       "   guest_satisfaction_overall  bedrooms      dist  metro_dist  attr_index  \\\n",
       "0                        98.0         1  5.301018    1.588990  209.632578   \n",
       "1                        99.0         1  2.198946    0.379262  553.891744   \n",
       "2                        96.0         1  2.322958    0.453178  428.287849   \n",
       "3                        99.0         1  5.707825    1.723977  195.694744   \n",
       "4                        98.0         1  3.257945    0.825417  329.477068   \n",
       "\n",
       "   attr_index_norm  rest_index  rest_index_norm      lng       lat  \n",
       "0        14.571793  467.597522         8.372724 -0.16032  51.46531  \n",
       "1        38.501630  961.472137        17.215961 -0.09683  51.50343  \n",
       "2        29.770764  959.042839        17.172462 -0.10554  51.52407  \n",
       "3        13.602959  452.232472         8.097600 -0.16575  51.46292  \n",
       "4        22.902317  735.327280        13.166649 -0.12055  51.53728  "
      ]
     },
     "execution_count": 5,
     "metadata": {},
     "output_type": "execute_result"
    }
   ],
   "source": [
    "#Apply categorical label to columns \n",
    "london[['room_type', 'room_shared', 'room_private', 'host_is_superhost', 'multi', 'biz']].apply(lambda x: x.astype('category'))\n",
    "\n",
    "#Convert Roomtype to oridinal \n",
    "london[\"room_type\"] = london[\"room_type\"].replace({'Shared room': 0, 'Private room': 1, 'Entire home/apt': 2})\n",
    "london.head()"
   ]
  },
  {
   "attachments": {},
   "cell_type": "markdown",
   "metadata": {},
   "source": [
    "### Split Data"
   ]
  },
  {
   "cell_type": "code",
   "execution_count": 6,
   "metadata": {},
   "outputs": [],
   "source": [
    "from sklearn.ensemble import RandomForestRegressor\n",
    "from sklearn.metrics import mean_squared_error, accuracy_score, confusion_matrix, precision_score, recall_score, ConfusionMatrixDisplay\n",
    "from sklearn.model_selection import RandomizedSearchCV, train_test_split\n",
    "from scipy.stats import randint"
   ]
  },
  {
   "cell_type": "code",
   "execution_count": 7,
   "metadata": {},
   "outputs": [
    {
     "name": "stdout",
     "output_type": "stream",
     "text": [
      "(3493, 8)\n",
      "(874, 8)\n",
      "(3493, 1)\n",
      "(874, 1)\n"
     ]
    }
   ],
   "source": [
    "from sklearn.model_selection import train_test_split\n",
    "\n",
    "# Extract Response and Predictors\n",
    "y = pd.DataFrame(london[\"realSum\"])\n",
    "x = pd.DataFrame(london[[\"person_capacity\", \"bedrooms\", \"dist\", \"metro_dist\", \"attr_index_norm\", \"rest_index_norm\", \"room_type\", \"biz\"]])\n",
    "\n",
    "x_train, x_test, y_train, y_test = train_test_split(x, y, test_size=0.2)\n",
    "print(x_train.shape)\n",
    "print(x_test.shape)\n",
    "print(y_train.shape)\n",
    "print(y_test.shape)"
   ]
  },
  {
   "cell_type": "code",
   "execution_count": 8,
   "metadata": {},
   "outputs": [
    {
     "data": {
      "text/html": [
       "<div>\n",
       "<style scoped>\n",
       "    .dataframe tbody tr th:only-of-type {\n",
       "        vertical-align: middle;\n",
       "    }\n",
       "\n",
       "    .dataframe tbody tr th {\n",
       "        vertical-align: top;\n",
       "    }\n",
       "\n",
       "    .dataframe thead th {\n",
       "        text-align: right;\n",
       "    }\n",
       "</style>\n",
       "<table border=\"1\" class=\"dataframe\">\n",
       "  <thead>\n",
       "    <tr style=\"text-align: right;\">\n",
       "      <th></th>\n",
       "      <th>person_capacity</th>\n",
       "      <th>bedrooms</th>\n",
       "      <th>dist</th>\n",
       "      <th>metro_dist</th>\n",
       "      <th>attr_index_norm</th>\n",
       "      <th>rest_index_norm</th>\n",
       "      <th>room_type</th>\n",
       "      <th>biz</th>\n",
       "    </tr>\n",
       "  </thead>\n",
       "  <tbody>\n",
       "    <tr>\n",
       "      <th>2917</th>\n",
       "      <td>2.0</td>\n",
       "      <td>1</td>\n",
       "      <td>6.471332</td>\n",
       "      <td>2.144516</td>\n",
       "      <td>12.722922</td>\n",
       "      <td>7.143038</td>\n",
       "      <td>1</td>\n",
       "      <td>0</td>\n",
       "    </tr>\n",
       "    <tr>\n",
       "      <th>3799</th>\n",
       "      <td>2.0</td>\n",
       "      <td>1</td>\n",
       "      <td>2.560201</td>\n",
       "      <td>0.638152</td>\n",
       "      <td>28.009212</td>\n",
       "      <td>13.057521</td>\n",
       "      <td>2</td>\n",
       "      <td>0</td>\n",
       "    </tr>\n",
       "    <tr>\n",
       "      <th>3453</th>\n",
       "      <td>3.0</td>\n",
       "      <td>2</td>\n",
       "      <td>3.858073</td>\n",
       "      <td>0.534662</td>\n",
       "      <td>21.390655</td>\n",
       "      <td>11.597532</td>\n",
       "      <td>2</td>\n",
       "      <td>0</td>\n",
       "    </tr>\n",
       "    <tr>\n",
       "      <th>4505</th>\n",
       "      <td>2.0</td>\n",
       "      <td>1</td>\n",
       "      <td>4.403261</td>\n",
       "      <td>0.500360</td>\n",
       "      <td>23.689984</td>\n",
       "      <td>12.374307</td>\n",
       "      <td>1</td>\n",
       "      <td>1</td>\n",
       "    </tr>\n",
       "    <tr>\n",
       "      <th>2769</th>\n",
       "      <td>2.0</td>\n",
       "      <td>1</td>\n",
       "      <td>4.959268</td>\n",
       "      <td>0.911725</td>\n",
       "      <td>15.646870</td>\n",
       "      <td>9.037823</td>\n",
       "      <td>1</td>\n",
       "      <td>0</td>\n",
       "    </tr>\n",
       "  </tbody>\n",
       "</table>\n",
       "</div>"
      ],
      "text/plain": [
       "      person_capacity  bedrooms      dist  metro_dist  attr_index_norm  \\\n",
       "2917              2.0         1  6.471332    2.144516        12.722922   \n",
       "3799              2.0         1  2.560201    0.638152        28.009212   \n",
       "3453              3.0         2  3.858073    0.534662        21.390655   \n",
       "4505              2.0         1  4.403261    0.500360        23.689984   \n",
       "2769              2.0         1  4.959268    0.911725        15.646870   \n",
       "\n",
       "      rest_index_norm  room_type  biz  \n",
       "2917         7.143038          1    0  \n",
       "3799        13.057521          2    0  \n",
       "3453        11.597532          2    0  \n",
       "4505        12.374307          1    1  \n",
       "2769         9.037823          1    0  "
      ]
     },
     "execution_count": 8,
     "metadata": {},
     "output_type": "execute_result"
    }
   ],
   "source": [
    "x_train.head()"
   ]
  },
  {
   "attachments": {},
   "cell_type": "markdown",
   "metadata": {},
   "source": [
    "### Train and Test"
   ]
  },
  {
   "cell_type": "code",
   "execution_count": 9,
   "metadata": {},
   "outputs": [
    {
     "name": "stderr",
     "output_type": "stream",
     "text": [
      "C:\\Users\\long\\AppData\\Local\\Temp\\ipykernel_8468\\76617234.py:5: DataConversionWarning: A column-vector y was passed when a 1d array was expected. Please change the shape of y to (n_samples,), for example using ravel().\n",
      "  model.fit(x, y)\n"
     ]
    }
   ],
   "source": [
    "# create regressor object\n",
    "model = RandomForestRegressor(n_estimators = 100, random_state = 0)\n",
    " \n",
    "# fit the regressor with x and y data\n",
    "model.fit(x, y)\n",
    "\n",
    "#Prediction using test data set \n",
    "y_test_pred = model.predict(x_test)"
   ]
  },
  {
   "cell_type": "code",
   "execution_count": 10,
   "metadata": {},
   "outputs": [
    {
     "name": "stdout",
     "output_type": "stream",
     "text": [
      "Goodness of Fit of Model \tTest Dataset\n",
      "Explained Variance (R^2) \t: 0.9537011622810787\n",
      "Mean Squared Error (MSE) \t: 1316.188057155781\n",
      "\n"
     ]
    },
    {
     "data": {
      "image/png": "[encoded data removed]",
      "text/plain": [
       "<Figure size 2400x1200 with 1 Axes>"
      ]
     },
     "metadata": {},
     "output_type": "display_data"
    }
   ],
   "source": [
    "# Check the Goodness of Fit (on Test Data)\n",
    "print(\"Goodness of Fit of Model \\tTest Dataset\")\n",
    "print(\"Explained Variance (R^2) \\t:\", model.score(x_test, y_test))\n",
    "print(\"Mean Squared Error (MSE) \\t:\", mean_squared_error(y_test, y_test_pred))\n",
    "print()\n",
    "\n",
    "# Plot the Predictions vs the True values\n",
    "f, axes = plt.subplots(1, 1, figsize=(24, 12))\n",
    "axes.scatter(y_test, y_test_pred, color = \"green\")\n",
    "axes.plot(y_test, y_test, 'w-', linewidth = 4)\n",
    "axes.set_xlabel(\"True values of the Response Variable (Test)\")\n",
    "axes.set_ylabel(\"Predicted values of the Response Variable (Test)\")\n",
    "plt.show()"
   ]
  },
  {
   "cell_type": "code",
   "execution_count": 30,
   "metadata": {},
   "outputs": [
    {
     "data": {
      "text/html": [
       "<div>\n",
       "<style scoped>\n",
       "    .dataframe tbody tr th:only-of-type {\n",
       "        vertical-align: middle;\n",
       "    }\n",
       "\n",
       "    .dataframe tbody tr th {\n",
       "        vertical-align: top;\n",
       "    }\n",
       "\n",
       "    .dataframe thead th {\n",
       "        text-align: right;\n",
       "    }\n",
       "</style>\n",
       "<table border=\"1\" class=\"dataframe\">\n",
       "  <thead>\n",
       "    <tr style=\"text-align: right;\">\n",
       "      <th></th>\n",
       "      <th>realSum</th>\n",
       "      <th>room_type</th>\n",
       "      <th>room_shared</th>\n",
       "      <th>room_private</th>\n",
       "      <th>person_capacity</th>\n",
       "      <th>host_is_superhost</th>\n",
       "      <th>multi</th>\n",
       "      <th>biz</th>\n",
       "      <th>cleanliness_rating</th>\n",
       "      <th>guest_satisfaction_overall</th>\n",
       "      <th>bedrooms</th>\n",
       "      <th>dist</th>\n",
       "      <th>metro_dist</th>\n",
       "      <th>attr_index</th>\n",
       "      <th>attr_index_norm</th>\n",
       "      <th>rest_index</th>\n",
       "      <th>rest_index_norm</th>\n",
       "      <th>lng</th>\n",
       "      <th>lat</th>\n",
       "      <th>predSum</th>\n",
       "    </tr>\n",
       "  </thead>\n",
       "  <tbody>\n",
       "    <tr>\n",
       "      <th>4567</th>\n",
       "      <td>134.528093</td>\n",
       "      <td>1</td>\n",
       "      <td>False</td>\n",
       "      <td>True</td>\n",
       "      <td>2.0</td>\n",
       "      <td>False</td>\n",
       "      <td>0</td>\n",
       "      <td>0</td>\n",
       "      <td>10.0</td>\n",
       "      <td>100.0</td>\n",
       "      <td>1</td>\n",
       "      <td>7.233455</td>\n",
       "      <td>0.426502</td>\n",
       "      <td>171.849214</td>\n",
       "      <td>11.945430</td>\n",
       "      <td>360.171996</td>\n",
       "      <td>6.449180</td>\n",
       "      <td>-0.02919</td>\n",
       "      <td>51.52985</td>\n",
       "      <td>147.251817</td>\n",
       "    </tr>\n",
       "    <tr>\n",
       "      <th>2996</th>\n",
       "      <td>149.344999</td>\n",
       "      <td>1</td>\n",
       "      <td>False</td>\n",
       "      <td>True</td>\n",
       "      <td>2.0</td>\n",
       "      <td>False</td>\n",
       "      <td>1</td>\n",
       "      <td>0</td>\n",
       "      <td>7.0</td>\n",
       "      <td>75.0</td>\n",
       "      <td>1</td>\n",
       "      <td>7.306803</td>\n",
       "      <td>2.171189</td>\n",
       "      <td>151.620736</td>\n",
       "      <td>10.539326</td>\n",
       "      <td>317.266688</td>\n",
       "      <td>5.680925</td>\n",
       "      <td>-0.11544</td>\n",
       "      <td>51.44309</td>\n",
       "      <td>153.025706</td>\n",
       "    </tr>\n",
       "    <tr>\n",
       "      <th>816</th>\n",
       "      <td>93.134834</td>\n",
       "      <td>1</td>\n",
       "      <td>False</td>\n",
       "      <td>True</td>\n",
       "      <td>2.0</td>\n",
       "      <td>False</td>\n",
       "      <td>0</td>\n",
       "      <td>0</td>\n",
       "      <td>10.0</td>\n",
       "      <td>100.0</td>\n",
       "      <td>1</td>\n",
       "      <td>14.040543</td>\n",
       "      <td>5.826877</td>\n",
       "      <td>87.255930</td>\n",
       "      <td>6.065257</td>\n",
       "      <td>177.578626</td>\n",
       "      <td>3.179693</td>\n",
       "      <td>0.06055</td>\n",
       "      <td>51.46211</td>\n",
       "      <td>108.205743</td>\n",
       "    </tr>\n",
       "    <tr>\n",
       "      <th>2942</th>\n",
       "      <td>565.629483</td>\n",
       "      <td>2</td>\n",
       "      <td>False</td>\n",
       "      <td>False</td>\n",
       "      <td>3.0</td>\n",
       "      <td>False</td>\n",
       "      <td>0</td>\n",
       "      <td>0</td>\n",
       "      <td>8.0</td>\n",
       "      <td>85.0</td>\n",
       "      <td>0</td>\n",
       "      <td>4.817482</td>\n",
       "      <td>0.239872</td>\n",
       "      <td>284.048016</td>\n",
       "      <td>19.744493</td>\n",
       "      <td>725.799625</td>\n",
       "      <td>12.996048</td>\n",
       "      <td>-0.19230</td>\n",
       "      <td>51.49285</td>\n",
       "      <td>517.869658</td>\n",
       "    </tr>\n",
       "    <tr>\n",
       "      <th>4159</th>\n",
       "      <td>219.666502</td>\n",
       "      <td>1</td>\n",
       "      <td>False</td>\n",
       "      <td>True</td>\n",
       "      <td>2.0</td>\n",
       "      <td>False</td>\n",
       "      <td>0</td>\n",
       "      <td>1</td>\n",
       "      <td>8.0</td>\n",
       "      <td>80.0</td>\n",
       "      <td>1</td>\n",
       "      <td>2.664989</td>\n",
       "      <td>0.254700</td>\n",
       "      <td>449.330857</td>\n",
       "      <td>31.233487</td>\n",
       "      <td>932.201976</td>\n",
       "      <td>16.691854</td>\n",
       "      <td>-0.16020</td>\n",
       "      <td>51.52088</td>\n",
       "      <td>232.815918</td>\n",
       "    </tr>\n",
       "    <tr>\n",
       "      <th>...</th>\n",
       "      <td>...</td>\n",
       "      <td>...</td>\n",
       "      <td>...</td>\n",
       "      <td>...</td>\n",
       "      <td>...</td>\n",
       "      <td>...</td>\n",
       "      <td>...</td>\n",
       "      <td>...</td>\n",
       "      <td>...</td>\n",
       "      <td>...</td>\n",
       "      <td>...</td>\n",
       "      <td>...</td>\n",
       "      <td>...</td>\n",
       "      <td>...</td>\n",
       "      <td>...</td>\n",
       "      <td>...</td>\n",
       "      <td>...</td>\n",
       "      <td>...</td>\n",
       "      <td>...</td>\n",
       "      <td>...</td>\n",
       "    </tr>\n",
       "    <tr>\n",
       "      <th>2025</th>\n",
       "      <td>142.289329</td>\n",
       "      <td>1</td>\n",
       "      <td>False</td>\n",
       "      <td>True</td>\n",
       "      <td>2.0</td>\n",
       "      <td>False</td>\n",
       "      <td>0</td>\n",
       "      <td>0</td>\n",
       "      <td>10.0</td>\n",
       "      <td>100.0</td>\n",
       "      <td>1</td>\n",
       "      <td>7.630586</td>\n",
       "      <td>0.093824</td>\n",
       "      <td>158.479968</td>\n",
       "      <td>11.016118</td>\n",
       "      <td>385.578311</td>\n",
       "      <td>6.904101</td>\n",
       "      <td>-0.23528</td>\n",
       "      <td>51.49494</td>\n",
       "      <td>158.853689</td>\n",
       "    </tr>\n",
       "    <tr>\n",
       "      <th>3400</th>\n",
       "      <td>131.705826</td>\n",
       "      <td>1</td>\n",
       "      <td>False</td>\n",
       "      <td>True</td>\n",
       "      <td>2.0</td>\n",
       "      <td>False</td>\n",
       "      <td>0</td>\n",
       "      <td>0</td>\n",
       "      <td>9.0</td>\n",
       "      <td>93.0</td>\n",
       "      <td>0</td>\n",
       "      <td>6.666436</td>\n",
       "      <td>0.921020</td>\n",
       "      <td>170.435903</td>\n",
       "      <td>11.847189</td>\n",
       "      <td>371.361287</td>\n",
       "      <td>6.649534</td>\n",
       "      <td>-0.08993</td>\n",
       "      <td>51.56347</td>\n",
       "      <td>148.973400</td>\n",
       "    </tr>\n",
       "    <tr>\n",
       "      <th>273</th>\n",
       "      <td>496.248736</td>\n",
       "      <td>2</td>\n",
       "      <td>False</td>\n",
       "      <td>False</td>\n",
       "      <td>5.0</td>\n",
       "      <td>False</td>\n",
       "      <td>0</td>\n",
       "      <td>1</td>\n",
       "      <td>9.0</td>\n",
       "      <td>90.0</td>\n",
       "      <td>1</td>\n",
       "      <td>5.029311</td>\n",
       "      <td>1.528433</td>\n",
       "      <td>232.297506</td>\n",
       "      <td>16.147257</td>\n",
       "      <td>506.816033</td>\n",
       "      <td>9.074964</td>\n",
       "      <td>-0.17514</td>\n",
       "      <td>51.47428</td>\n",
       "      <td>492.481008</td>\n",
       "    </tr>\n",
       "    <tr>\n",
       "      <th>1144</th>\n",
       "      <td>173.099085</td>\n",
       "      <td>1</td>\n",
       "      <td>False</td>\n",
       "      <td>True</td>\n",
       "      <td>2.0</td>\n",
       "      <td>False</td>\n",
       "      <td>0</td>\n",
       "      <td>0</td>\n",
       "      <td>10.0</td>\n",
       "      <td>97.0</td>\n",
       "      <td>1</td>\n",
       "      <td>9.067019</td>\n",
       "      <td>4.066127</td>\n",
       "      <td>142.445295</td>\n",
       "      <td>9.901531</td>\n",
       "      <td>280.596671</td>\n",
       "      <td>5.024318</td>\n",
       "      <td>-0.01588</td>\n",
       "      <td>51.46610</td>\n",
       "      <td>160.128413</td>\n",
       "    </tr>\n",
       "    <tr>\n",
       "      <th>501</th>\n",
       "      <td>174.980597</td>\n",
       "      <td>1</td>\n",
       "      <td>False</td>\n",
       "      <td>True</td>\n",
       "      <td>2.0</td>\n",
       "      <td>False</td>\n",
       "      <td>0</td>\n",
       "      <td>0</td>\n",
       "      <td>9.0</td>\n",
       "      <td>92.0</td>\n",
       "      <td>1</td>\n",
       "      <td>3.824777</td>\n",
       "      <td>1.799995</td>\n",
       "      <td>282.321695</td>\n",
       "      <td>19.624494</td>\n",
       "      <td>559.610160</td>\n",
       "      <td>10.020287</td>\n",
       "      <td>-0.14954</td>\n",
       "      <td>51.47682</td>\n",
       "      <td>184.421082</td>\n",
       "    </tr>\n",
       "  </tbody>\n",
       "</table>\n",
       "<p>874 rows × 20 columns</p>\n",
       "</div>"
      ],
      "text/plain": [
       "         realSum  room_type  room_shared  room_private  person_capacity  \\\n",
       "4567  134.528093          1        False          True              2.0   \n",
       "2996  149.344999          1        False          True              2.0   \n",
       "816    93.134834          1        False          True              2.0   \n",
       "2942  565.629483          2        False         False              3.0   \n",
       "4159  219.666502          1        False          True              2.0   \n",
       "...          ...        ...          ...           ...              ...   \n",
       "2025  142.289329          1        False          True              2.0   \n",
       "3400  131.705826          1        False          True              2.0   \n",
       "273   496.248736          2        False         False              5.0   \n",
       "1144  173.099085          1        False          True              2.0   \n",
       "501   174.980597          1        False          True              2.0   \n",
       "\n",
       "      host_is_superhost  multi  biz  cleanliness_rating  \\\n",
       "4567              False      0    0                10.0   \n",
       "2996              False      1    0                 7.0   \n",
       "816               False      0    0                10.0   \n",
       "2942              False      0    0                 8.0   \n",
       "4159              False      0    1                 8.0   \n",
       "...                 ...    ...  ...                 ...   \n",
       "2025              False      0    0                10.0   \n",
       "3400              False      0    0                 9.0   \n",
       "273               False      0    1                 9.0   \n",
       "1144              False      0    0                10.0   \n",
       "501               False      0    0                 9.0   \n",
       "\n",
       "      guest_satisfaction_overall  bedrooms       dist  metro_dist  attr_index  \\\n",
       "4567                       100.0         1   7.233455    0.426502  171.849214   \n",
       "2996                        75.0         1   7.306803    2.171189  151.620736   \n",
       "816                        100.0         1  14.040543    5.826877   87.255930   \n",
       "2942                        85.0         0   4.817482    0.239872  284.048016   \n",
       "4159                        80.0         1   2.664989    0.254700  449.330857   \n",
       "...                          ...       ...        ...         ...         ...   \n",
       "2025                       100.0         1   7.630586    0.093824  158.479968   \n",
       "3400                        93.0         0   6.666436    0.921020  170.435903   \n",
       "273                         90.0         1   5.029311    1.528433  232.297506   \n",
       "1144                        97.0         1   9.067019    4.066127  142.445295   \n",
       "501                         92.0         1   3.824777    1.799995  282.321695   \n",
       "\n",
       "      attr_index_norm  rest_index  rest_index_norm      lng       lat  \\\n",
       "4567        11.945430  360.171996         6.449180 -0.02919  51.52985   \n",
       "2996        10.539326  317.266688         5.680925 -0.11544  51.44309   \n",
       "816          6.065257  177.578626         3.179693  0.06055  51.46211   \n",
       "2942        19.744493  725.799625        12.996048 -0.19230  51.49285   \n",
       "4159        31.233487  932.201976        16.691854 -0.16020  51.52088   \n",
       "...               ...         ...              ...      ...       ...   \n",
       "2025        11.016118  385.578311         6.904101 -0.23528  51.49494   \n",
       "3400        11.847189  371.361287         6.649534 -0.08993  51.56347   \n",
       "273         16.147257  506.816033         9.074964 -0.17514  51.47428   \n",
       "1144         9.901531  280.596671         5.024318 -0.01588  51.46610   \n",
       "501         19.624494  559.610160        10.020287 -0.14954  51.47682   \n",
       "\n",
       "         predSum  \n",
       "4567  147.251817  \n",
       "2996  153.025706  \n",
       "816   108.205743  \n",
       "2942  517.869658  \n",
       "4159  232.815918  \n",
       "...          ...  \n",
       "2025  158.853689  \n",
       "3400  148.973400  \n",
       "273   492.481008  \n",
       "1144  160.128413  \n",
       "501   184.421082  \n",
       "\n",
       "[874 rows x 20 columns]"
      ]
     },
     "execution_count": 30,
     "metadata": {},
     "output_type": "execute_result"
    }
   ],
   "source": [
    "df = pd.DataFrame(london, index=x_test.index)\n",
    "y_pred_df = pd.DataFrame(y_test_pred, index=x_test.index)\n",
    "y_pred_df.columns = ['predSum']\n",
    "df = pd.concat([df, y_pred_df], axis=1)\n",
    "df"
   ]
  },
  {
   "cell_type": "code",
   "execution_count": 31,
   "metadata": {},
   "outputs": [],
   "source": [
    "underpriced = df.query('realSum < predSum')\n",
    "overpriced = df.query('realSum > predSum')"
   ]
  },
  {
   "cell_type": "code",
   "execution_count": 32,
   "metadata": {},
   "outputs": [
    {
     "data": {
      "text/plain": [
       "89.44313725490196"
      ]
     },
     "execution_count": 32,
     "metadata": {},
     "output_type": "execute_result"
    }
   ],
   "source": [
    "underpriced['guest_satisfaction_overall'].mean()"
   ]
  },
  {
   "cell_type": "code",
   "execution_count": 33,
   "metadata": {},
   "outputs": [
    {
     "data": {
      "text/plain": [
       "count    510.000000\n",
       "mean      89.443137\n",
       "std       10.605430\n",
       "min       20.000000\n",
       "25%       84.000000\n",
       "50%       92.000000\n",
       "75%       98.000000\n",
       "max      100.000000\n",
       "Name: guest_satisfaction_overall, dtype: float64"
      ]
     },
     "execution_count": 33,
     "metadata": {},
     "output_type": "execute_result"
    },
    {
     "data": {
      "image/png": "[encoded data removed]",
      "text/plain": [
       "<Figure size 640x480 with 1 Axes>"
      ]
     },
     "metadata": {},
     "output_type": "display_data"
    }
   ],
   "source": [
    "sb.boxplot(data = underpriced, x='guest_satisfaction_overall')\n",
    "underpriced['guest_satisfaction_overall'].describe()"
   ]
  },
  {
   "cell_type": "code",
   "execution_count": 34,
   "metadata": {},
   "outputs": [
    {
     "data": {
      "text/plain": [
       "90.7032967032967"
      ]
     },
     "execution_count": 34,
     "metadata": {},
     "output_type": "execute_result"
    }
   ],
   "source": [
    "overpriced['guest_satisfaction_overall'].mean()"
   ]
  },
  {
   "cell_type": "code",
   "execution_count": 35,
   "metadata": {},
   "outputs": [
    {
     "data": {
      "text/plain": [
       "count    364.000000\n",
       "mean      90.703297\n",
       "std       12.738086\n",
       "min       20.000000\n",
       "25%       87.000000\n",
       "50%       95.000000\n",
       "75%      100.000000\n",
       "max      100.000000\n",
       "Name: guest_satisfaction_overall, dtype: float64"
      ]
     },
     "execution_count": 35,
     "metadata": {},
     "output_type": "execute_result"
    },
    {
     "data": {
      "image/png": "[encoded data removed]",
      "text/plain": [
       "<Figure size 640x480 with 1 Axes>"
      ]
     },
     "metadata": {},
     "output_type": "display_data"
    }
   ],
   "source": [
    "sb.boxplot(data = overpriced, x='guest_satisfaction_overall')\n",
    "overpriced['guest_satisfaction_overall'].describe()"
   ]
  },
  {
   "attachments": {},
   "cell_type": "markdown",
   "metadata": {},
   "source": [
    "### Check the same for test_set"
   ]
  },
  {
   "cell_type": "code",
   "execution_count": 36,
   "metadata": {},
   "outputs": [
    {
     "data": {
      "text/plain": [
       "(2022, 20)"
      ]
     },
     "execution_count": 36,
     "metadata": {},
     "output_type": "execute_result"
    }
   ],
   "source": [
    "dft = pd.DataFrame(london, index=x_train.index)\n",
    "y_train_pred = model.predict(x_train)\n",
    "y_pred_df_train = pd.DataFrame(y_train_pred, index=x_train.index)\n",
    "y_pred_df_train.columns = ['predSum']\n",
    "dft = pd.concat([dft, y_pred_df_train], axis=1)\n",
    "dft\n",
    "\n",
    "underpriced = dft.query('realSum < predSum')\n",
    "overpriced = dft.query('realSum > predSum')\n",
    "underpriced.shape"
   ]
  },
  {
   "cell_type": "markdown",
   "metadata": {},
   "source": []
  },
  {
   "cell_type": "code",
   "execution_count": 37,
   "metadata": {},
   "outputs": [
    {
     "data": {
      "text/plain": [
       "count    2022.000000\n",
       "mean       89.477250\n",
       "std        11.718293\n",
       "min        20.000000\n",
       "25%        84.000000\n",
       "50%        93.000000\n",
       "75%        98.000000\n",
       "max       100.000000\n",
       "Name: guest_satisfaction_overall, dtype: float64"
      ]
     },
     "execution_count": 37,
     "metadata": {},
     "output_type": "execute_result"
    },
    {
     "data": {
      "image/png": "[encoded data removed]",
      "text/plain": [
       "<Figure size 640x480 with 1 Axes>"
      ]
     },
     "metadata": {},
     "output_type": "display_data"
    }
   ],
   "source": [
    "sb.boxplot(data = underpriced, x='guest_satisfaction_overall')\n",
    "underpriced['guest_satisfaction_overall'].describe()"
   ]
  },
  {
   "cell_type": "code",
   "execution_count": 38,
   "metadata": {},
   "outputs": [
    {
     "data": {
      "text/plain": [
       "count    1471.000000\n",
       "mean       91.422162\n",
       "std        11.739486\n",
       "min        20.000000\n",
       "25%        88.000000\n",
       "50%        95.000000\n",
       "75%       100.000000\n",
       "max       100.000000\n",
       "Name: guest_satisfaction_overall, dtype: float64"
      ]
     },
     "execution_count": 38,
     "metadata": {},
     "output_type": "execute_result"
    },
    {
     "data": {
      "image/png": "[encoded data removed]",
      "text/plain": [
       "<Figure size 640x480 with 1 Axes>"
      ]
     },
     "metadata": {},
     "output_type": "display_data"
    }
   ],
   "source": [
    "sb.boxplot(data = overpriced, x='guest_satisfaction_overall')\n",
    "overpriced['guest_satisfaction_overall'].describe()"
   ]
  }
 ],
 "metadata": {
  "kernelspec": {
   "display_name": "base",
   "language": "python",
   "name": "python3"
  },
  "language_info": {
   "codemirror_mode": {
    "name": "ipython",
    "version": 3
   },
   "file_extension": ".py",
   "mimetype": "text/x-python",
   "name": "python",
   "nbconvert_exporter": "python",
   "pygments_lexer": "ipython3",
   "version": "3.10.9"
  },
  "orig_nbformat": 4
 },
 "nbformat": 4,
 "nbformat_minor": 2
}
